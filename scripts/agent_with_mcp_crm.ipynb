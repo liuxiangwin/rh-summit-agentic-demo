{
 "cells": [
  {
   "cell_type": "code",
   "execution_count": 1,
   "metadata": {
    "id": "mL9qVCPX3I11"
   },
   "outputs": [
    {
     "name": "stderr",
     "output_type": "stream",
     "text": [
      "`agent_config` is deprecated. Use inlined parameters instead.\n"
     ]
    },
    {
     "name": "stdout",
     "output_type": "stream",
     "text": [
      "\u001b[33mNo available shields. Disabling safety.\u001b[0m\n",
      "Using model: Qwen/Qwen3-14B\n",
      "\u001b[33minference> \u001b[0m\u001b[33m<think>\u001b[0m\u001b[33m\n",
      "\u001b[0m\u001b[33mOkay\u001b[0m\u001b[33m,\u001b[0m\u001b[33m the\u001b[0m\u001b[33m user\u001b[0m\u001b[33m is\u001b[0m\u001b[33m asking\u001b[0m\u001b[33m for\u001b[0m\u001b[33m a\u001b[0m\u001b[33m list\u001b[0m\u001b[33m of\u001b[0m\u001b[33m active\u001b[0m\u001b[33m opportunities\u001b[0m\u001b[33m.\u001b[0m\u001b[33m Let\u001b[0m\u001b[33m me\u001b[0m\u001b[33m check\u001b[0m\u001b[33m the\u001b[0m\u001b[33m available\u001b[0m\u001b[33m tools\u001b[0m\u001b[33m.\u001b[0m\u001b[33m There\u001b[0m\u001b[33m's\u001b[0m\u001b[33m a\u001b[0m\u001b[33m function\u001b[0m\u001b[33m called\u001b[0m\u001b[33m get\u001b[0m\u001b[33mOp\u001b[0m\u001b[33mport\u001b[0m\u001b[33munities\u001b[0m\u001b[33m that\u001b[0m\u001b[33m retrieves\u001b[0m\u001b[33m active\u001b[0m\u001b[33m opportunities\u001b[0m\u001b[33m from\u001b[0m\u001b[33m the\u001b[0m\u001b[33m CRM\u001b[0m\u001b[33m.\u001b[0m\u001b[33m The\u001b[0m\u001b[33m parameters\u001b[0m\u001b[33m are\u001b[0m\u001b[33m empty\u001b[0m\u001b[33m,\u001b[0m\u001b[33m so\u001b[0m\u001b[33m I\u001b[0m\u001b[33m don\u001b[0m\u001b[33m't\u001b[0m\u001b[33m need\u001b[0m\u001b[33m any\u001b[0m\u001b[33m arguments\u001b[0m\u001b[33m.\u001b[0m\u001b[33m I\u001b[0m\u001b[33m should\u001b[0m\u001b[33m call\u001b[0m\u001b[33m that\u001b[0m\u001b[33m function\u001b[0m\u001b[33m.\u001b[0m\u001b[33m No\u001b[0m\u001b[33m need\u001b[0m\u001b[33m to\u001b[0m\u001b[33m use\u001b[0m\u001b[33m get\u001b[0m\u001b[33mSupport\u001b[0m\u001b[33mCases\u001b[0m\u001b[33m here\u001b[0m\u001b[33m since\u001b[0m\u001b[33m the\u001b[0m\u001b[33m query\u001b[0m\u001b[33m is\u001b[0m\u001b[33m about\u001b[0m\u001b[33m opportunities\u001b[0m\u001b[33m.\u001b[0m\u001b[33m Just\u001b[0m\u001b[33m make\u001b[0m\u001b[33m sure\u001b[0m\u001b[33m to\u001b[0m\u001b[33m structure\u001b[0m\u001b[33m the\u001b[0m\u001b[33m tool\u001b[0m\u001b[33m call\u001b[0m\u001b[33m correctly\u001b[0m\u001b[33m in\u001b[0m\u001b[33m JSON\u001b[0m\u001b[33m within\u001b[0m\u001b[33m the\u001b[0m\u001b[33m XML\u001b[0m\u001b[33m tags\u001b[0m\u001b[33m.\n",
      "\u001b[0m\u001b[33m</think>\u001b[0m\u001b[33m\n",
      "\n",
      "\u001b[0m\u001b[33m<tool_call>\u001b[0m\u001b[33m\n",
      "\u001b[0m\u001b[33m{\"\u001b[0m\u001b[33mname\u001b[0m\u001b[33m\":\u001b[0m\u001b[33m \"\u001b[0m\u001b[33mget\u001b[0m\u001b[33mOp\u001b[0m\u001b[33mport\u001b[0m\u001b[33munities\u001b[0m\u001b[33m\",\u001b[0m\u001b[33m \"\u001b[0m\u001b[33marguments\u001b[0m\u001b[33m\":\u001b[0m\u001b[33m {}\u001b[0m\u001b[33m}\n",
      "\u001b[0m\u001b[33m</tool_call>\u001b[0m\u001b[97m\u001b[0m\n",
      "\u001b[30m\u001b[0m"
     ]
    }
   ],
   "source": [
    "import os\n",
    "\n",
    "import fire\n",
    "from llama_stack_client import LlamaStackClient\n",
    "from llama_stack_client.lib.agents.agent import Agent\n",
    "from llama_stack_client.lib.agents.event_logger import EventLogger\n",
    "from llama_stack_client.types.agent_create_params import AgentConfig\n",
    "from termcolor import colored\n",
    "\n",
    "base_url = \"http://localhost:8321\"\n",
    "\n",
    "client = LlamaStackClient(\n",
    "    # base_url=f\"http://{host}:{port}\"\n",
    "    base_url=base_url\n",
    ")\n",
    "\n",
    "available_shields = [shield.identifier for shield in client.shields.list()]\n",
    "if not available_shields:\n",
    "    print(colored(\"No available shields. Disabling safety.\", \"yellow\"))\n",
    "else:\n",
    "    print(f\"Available shields found: {available_shields}\")\n",
    "\n",
    "available_models = [\n",
    "    model.identifier for model in client.models.list() if model.model_type == \"llm\"\n",
    "]\n",
    "if not available_models:\n",
    "    print(colored(\"No available models. Exiting.\", \"red\"))\n",
    "    # return\n",
    "else:\n",
    "    selected_model = available_models[0]\n",
    "    # selected_model=\"Qwen/Qwen3-14B\"\n",
    "    print(f\"Using model: {selected_model}\")\n",
    "\n",
    "agent_config = AgentConfig(\n",
    "    model=selected_model,\n",
    "    instructions=\"You are a helpful assistant\",\n",
    "    sampling_params={\n",
    "         \"max_tokens\":3096,\"strategy\": {\"type\": \"top_p\", \"temperature\": 1.0, \"top_p\": 0.9},\n",
    "    },\n",
    "    toolgroups=(\n",
    "        [\n",
    "            \"mcp::crm\"\n",
    "        ]\n",
    "    ),\n",
    "    tool_choice=\"auto\",\n",
    "    input_shields=available_shields if available_shields else [],\n",
    "    output_shields=available_shields if available_shields else [],\n",
    "    enable_session_persistence=False\n",
    ")\n",
    "agent = Agent(client, agent_config)\n",
    "\n",
    "user_prompts = [\n",
    "    \"\"\"\"Get a list of active opportinities\"\"\"\n",
    "]\n",
    "\n",
    "session_id = agent.create_session(\"another-session\")\n",
    "\n",
    "for prompt in user_prompts:\n",
    "    response = agent.create_turn(\n",
    "        messages=[\n",
    "            {\n",
    "                \"role\": \"user\",\n",
    "                \"content\": prompt,\n",
    "            }\n",
    "        ],\n",
    "        session_id=session_id,\n",
    "    )\n",
    "\n",
    "    for log in EventLogger().log(response):\n",
    "        log.print()"
   ]
  }
 ],
 "metadata": {
  "colab": {
   "provenance": []
  },
  "kernelspec": {
   "display_name": "Python 3.11",
   "language": "python",
   "name": "python3"
  },
  "language_info": {
   "codemirror_mode": {
    "name": "ipython",
    "version": 3
   },
   "file_extension": ".py",
   "mimetype": "text/x-python",
   "name": "python",
   "nbconvert_exporter": "python",
   "pygments_lexer": "ipython3",
   "version": "3.11.9"
  }
 },
 "nbformat": 4,
 "nbformat_minor": 4
}
