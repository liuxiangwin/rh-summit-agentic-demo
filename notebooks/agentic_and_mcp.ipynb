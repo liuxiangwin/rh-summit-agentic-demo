{
 "cells": [
  {
   "cell_type": "markdown",
   "id": "b5ecd807-fb1c-41eb-a948-365e57396d90",
   "metadata": {},
   "source": [
    "# Agentic & MCP Demo\n",
    "\n"
   ]
  },
  {
   "cell_type": "markdown",
   "id": "a77a6454",
   "metadata": {},
   "source": [
    "## Setup\n",
    "\n",
    "### Pre-Requisites\n",
    "\n",
    "Before starting, ensure you have the following:\n",
    "- A running Llama Stack server with the mcp::crm toolgroup configured\n",
    "\n",
    "### Installing dependencies\n",
    "\n",
    "This code requires `llama-stack` and the `llama-stack-client`, both at version `0.2.2`. Lets begin by installing them:"
   ]
  },
  {
   "cell_type": "code",
   "execution_count": 1,
   "id": "4481ba68",
   "metadata": {},
   "outputs": [
    {
     "name": "stdout",
     "output_type": "stream",
     "text": [
      "\n",
      "\u001b[1m[\u001b[0m\u001b[34;49mnotice\u001b[0m\u001b[1;39;49m]\u001b[0m\u001b[39;49m A new release of pip is available: \u001b[0m\u001b[31;49m24.2\u001b[0m\u001b[39;49m -> \u001b[0m\u001b[32;49m25.1.1\u001b[0m\n",
      "\u001b[1m[\u001b[0m\u001b[34;49mnotice\u001b[0m\u001b[1;39;49m]\u001b[0m\u001b[39;49m To update, run: \u001b[0m\u001b[32;49mpip install --upgrade pip\u001b[0m\n"
     ]
    }
   ],
   "source": [
    "!pip3 install llama-stack-client==0.2.2 llama-stack==0.2.2 --quiet"
   ]
  },
  {
   "cell_type": "markdown",
   "id": "62ee3cb2",
   "metadata": {},
   "source": [
    "### Configuring logging\n",
    "\n",
    "Now that we have our dependencies, lets setup logging for the application:"
   ]
  },
  {
   "cell_type": "code",
   "execution_count": 2,
   "id": "25fc0a44",
   "metadata": {},
   "outputs": [],
   "source": [
    "from llama_stack_client.lib.agents.event_logger import EventLogger\n",
    "\n",
    "import logging\n",
    "\n",
    "logger = logging.getLogger(__name__)\n",
    "if not logger.hasHandlers():  \n",
    "    logger.setLevel(logging.INFO)\n",
    "    stream_handler = logging.StreamHandler()\n",
    "    stream_handler.setLevel(logging.INFO)\n",
    "    formatter = logging.Formatter('%(message)s')\n",
    "    stream_handler.setFormatter(formatter)\n",
    "    logger.addHandler(stream_handler)"
   ]
  },
  {
   "cell_type": "markdown",
   "id": "681412e1",
   "metadata": {},
   "source": [
    "### Connecting to llama-stack server\n",
    "\n",
    "For the llama-stack instance, you can either run it locally or connect to a remote llama-stack instance.\n"
   ]
  },
  {
   "cell_type": "code",
   "execution_count": 3,
   "id": "6fa38ad0",
   "metadata": {},
   "outputs": [
    {
     "name": "stderr",
     "output_type": "stream",
     "text": [
      "Connected to Llama Stack server @ http://localhost:8321 \n",
      "\n"
     ]
    },
    {
     "name": "stdout",
     "output_type": "stream",
     "text": [
      "sys.path now includes: /opt/app-root/src/rh-summit-agentic-demo\n",
      "Qwen/Qwen3-14B\n"
     ]
    }
   ],
   "source": [
    "import sys\n",
    "import os\n",
    "# Add project root (assumes notebook is in ./notebooks)\n",
    "sys.path.append(os.path.abspath(\"..\"))\n",
    "print(\"sys.path now includes:\", sys.path[-1])\n",
    "from dotenv import load_dotenv\n",
    "from scripts.utils import get_any_available_model\n",
    "load_dotenv()\n",
    "\n",
    "# base_url = os.getenv(\"REMOTE_BASE_URL\", \"http://localhost:5001\")\n",
    "\n",
    "base_url=\"http://localhost:8321\"\n",
    "\n",
    "from llama_stack_client import LlamaStackClient\n",
    "\n",
    "client = LlamaStackClient(\n",
    "    base_url=base_url\n",
    ")\n",
    "model = get_any_available_model(client)\n",
    "# model = 'granite-3-8b-instruct'\n",
    "\n",
    "print(model)\n",
    "    \n",
    "logger.info(f\"Connected to Llama Stack server @ {base_url} \\n\")"
   ]
  },
  {
   "cell_type": "markdown",
   "id": "66044170",
   "metadata": {},
   "source": [
    "### Validate tools are available in our llama-stack instance\n",
    "\n",
    "When an instance of llama-stack is redeployed your tools need to re-registered. Also if a tool is already registered with a llama-stack instance, if you try to register one with the same `toolgroup_id`, llama-stack will throw you an error.\n",
    "\n",
    "For this reason it is recommended to include some code to validate your tools and toolgroups. This is where the `mcp_url` comes into play. The following code will check that  the `builtin::crm` toolgroups are registered as tools."
   ]
  },
  {
   "cell_type": "code",
   "execution_count": 4,
   "id": "1b2cedaf-522b-4251-886a-d8aa7b9fcd18",
   "metadata": {},
   "outputs": [
    {
     "name": "stderr",
     "output_type": "stream",
     "text": [
      "Your Llama Stack server is already registered with the following tool groups @ {'mcp::slack', 'mcp::pdf', 'builtin::code_interpreter', 'mcp::crm', 'builtin::websearch', 'builtin::rag', 'builtin::wolfram_alpha'} \n",
      "\n"
     ]
    }
   ],
   "source": [
    "registered_tools = client.tools.list()\n",
    "registered_toolgroups = [t.toolgroup_id for t in registered_tools]\n",
    "logger.info(f\"Your Llama Stack server is already registered with the following tool groups @ {set(registered_toolgroups)} \\n\")"
   ]
  },
  {
   "cell_type": "markdown",
   "id": "9ef5cbe2",
   "metadata": {},
   "source": [
    "## Get active opportunities\n",
    "\n",
    "This is a simple example to get a list of active opportunities from the CRM system."
   ]
  },
  {
   "cell_type": "markdown",
   "id": "2bf70ace-b704-4379-aa88-3c793cc4f959",
   "metadata": {},
   "source": [
    "### System Prompts for different models\n",
    "\n",
    "**Note:** If you have multiple models configured with your Llama Stack server, you can choose which one to run your queries against. When switching to a different model, you may need to adjust the system prompt to align with that model’s expected behavior. Many models provide recommended system prompts for optimal and reliable outputs—these are typically documented on their respective websites."
   ]
  },
  {
   "cell_type": "code",
   "execution_count": 5,
   "id": "374328a3-8c4d-4eb0-9c9d-73e40a9e74b5",
   "metadata": {},
   "outputs": [],
   "source": [
    "# Here is a system prompt we have come up with which works well for this query\n",
    "\n",
    "sys_prompt1= \"\"\"You are a helpful assistant. Use tools to answer. When you use a tool always respond with a summary of the result.\"\"\""
   ]
  },
  {
   "cell_type": "code",
   "execution_count": 6,
   "id": "b46bee8b-a46c-4b97-8273-dda75237d066",
   "metadata": {},
   "outputs": [
    {
     "name": "stdout",
     "output_type": "stream",
     "text": [
      "Qwen/Qwen3-14B\n",
      "\u001b[33minference> \u001b[0m\u001b[33m<think>\u001b[0m\u001b[33m\n",
      "\u001b[0m\u001b[33mOkay\u001b[0m\u001b[33m,\u001b[0m\u001b[33m the\u001b[0m\u001b[33m user\u001b[0m\u001b[33m is\u001b[0m\u001b[33m asking\u001b[0m\u001b[33m for\u001b[0m\u001b[33m active\u001b[0m\u001b[33m opportunities\u001b[0m\u001b[33m for\u001b[0m\u001b[33m Ac\u001b[0m\u001b[33mme\u001b[0m\u001b[33m.\u001b[0m\u001b[33m Let\u001b[0m\u001b[33m me\u001b[0m\u001b[33m check\u001b[0m\u001b[33m the\u001b[0m\u001b[33m tools\u001b[0m\u001b[33m available\u001b[0m\u001b[33m.\u001b[0m\u001b[33m There\u001b[0m\u001b[33m's\u001b[0m\u001b[33m a\u001b[0m\u001b[33m function\u001b[0m\u001b[33m called\u001b[0m\u001b[33m get\u001b[0m\u001b[33mOp\u001b[0m\u001b[33mport\u001b[0m\u001b[33munities\u001b[0m\u001b[33m that\u001b[0m\u001b[33m retrieves\u001b[0m\u001b[33m active\u001b[0m\u001b[33m opportunities\u001b[0m\u001b[33m from\u001b[0m\u001b[33m the\u001b[0m\u001b[33m CRM\u001b[0m\u001b[33m.\u001b[0m\u001b[33m The\u001b[0m\u001b[33m parameters\u001b[0m\u001b[33m are\u001b[0m\u001b[33m empty\u001b[0m\u001b[33m,\u001b[0m\u001b[33m so\u001b[0m\u001b[33m I\u001b[0m\u001b[33m don\u001b[0m\u001b[33m't\u001b[0m\u001b[33m need\u001b[0m\u001b[33m any\u001b[0m\u001b[33m arguments\u001b[0m\u001b[33m.\u001b[0m\u001b[33m I\u001b[0m\u001b[33m'll\u001b[0m\u001b[33m call\u001b[0m\u001b[33m that\u001b[0m\u001b[33m function\u001b[0m\u001b[33m to\u001b[0m\u001b[33m get\u001b[0m\u001b[33m the\u001b[0m\u001b[33m list\u001b[0m\u001b[33m.\u001b[0m\u001b[33m I\u001b[0m\u001b[33m should\u001b[0m\u001b[33m make\u001b[0m\u001b[33m sure\u001b[0m\u001b[33m to\u001b[0m\u001b[33m use\u001b[0m\u001b[33m the\u001b[0m\u001b[33m correct\u001b[0m\u001b[33m JSON\u001b[0m\u001b[33m structure\u001b[0m\u001b[33m within\u001b[0m\u001b[33m the\u001b[0m\u001b[33m tool\u001b[0m\u001b[33m_call\u001b[0m\u001b[33m tags\u001b[0m\u001b[33m.\n",
      "\u001b[0m\u001b[33m</think>\u001b[0m\u001b[33m\n",
      "\n",
      "\u001b[0m\u001b[33m<tool_call>\u001b[0m\u001b[33m\n",
      "\u001b[0m\u001b[33m{\"\u001b[0m\u001b[33mname\u001b[0m\u001b[33m\":\u001b[0m\u001b[33m \"\u001b[0m\u001b[33mget\u001b[0m\u001b[33mOp\u001b[0m\u001b[33mport\u001b[0m\u001b[33munities\u001b[0m\u001b[33m\",\u001b[0m\u001b[33m \"\u001b[0m\u001b[33marguments\u001b[0m\u001b[33m\":\u001b[0m\u001b[33m {}\u001b[0m\u001b[33m}\n",
      "\u001b[0m\u001b[33m</tool_call>\u001b[0m\u001b[97m\u001b[0m\n",
      "\u001b[30m\u001b[0m"
     ]
    }
   ],
   "source": [
    "print(model)\n",
    "from llama_stack_client import Agent\n",
    "# Create simple agent with tools\n",
    "agent = Agent(\n",
    "    client,\n",
    "    model=model, # replace this with your choice of model\n",
    "    instructions = sys_prompt1 , # update system prompt based on the model you are using\n",
    "    tools=[\"mcp::crm\"],\n",
    "    tool_config={\"tool_choice\":\"auto\"},\n",
    "    sampling_params={\n",
    "        \"max_tokens\":4096,\n",
    "        \"strategy\": {\"type\": \"greedy\"},\n",
    "    }\n",
    ")\n",
    "\n",
    "user_prompts = [\"Get active opportunities for acme\"]\n",
    "session_id = agent.create_session(session_name=\"crm_demo\")\n",
    "\n",
    "for prompt in user_prompts:\n",
    "    turn_response = agent.create_turn(\n",
    "        messages=[\n",
    "            {\n",
    "                \"role\":\"user\",\n",
    "                \"content\": prompt\n",
    "            }\n",
    "        ],\n",
    "        session_id=session_id,\n",
    "        stream=True,\n",
    "    )\n",
    "    for log in EventLogger().log(turn_response):\n",
    "        log.print()"
   ]
  },
  {
   "cell_type": "markdown",
   "id": "8e857dcc-6e78-42b7-96c3-4a3d32d59b4d",
   "metadata": {},
   "source": [
    "### Output Analysis\n",
    "\n",
    "This script defines and runs a simple agent using Llama Stack that is equipped with CRM tools (mcp::crm). It performs a single action: retrieves one or more active opportunities using a user prompt. The response is streamed, and each part of the process (model inference, tool call, and results) is logged step-by-step.\n",
    "\n",
    "Output: \n",
    "\n",
    "The model infers that it should call the getOpportunities tool with argument id=1.\n",
    "\n",
    "This suggests the tool is expected to return the active opportunity with ID 1.\n",
    "\n",
    "The tool returns a JSON-like structure containing multiple active opportunities.\n",
    "\n",
    "The model interprets the output and summarizes only one opportunity (ID 1), including:\n",
    "\n",
    "Account: Acme Corp\n",
    "\n",
    "Description: \"Upsell - Cloud package\"\n",
    "\n",
    "Amount: $5,000\n",
    "\n",
    "Year: 2025\n"
   ]
  },
  {
   "cell_type": "markdown",
   "id": "c9830e45-5633-4eb3-9270-643a27e24f2a",
   "metadata": {},
   "source": [
    "## Analyze account sentiment for active opportunities\n",
    "\n",
    "Get a list of active opportunities, then find the associated support cases for each opportunity, then anayse the mood of the account."
   ]
  },
  {
   "cell_type": "code",
   "execution_count": 7,
   "id": "4bd82e55-17df-4979-86ef-22e35a186c83",
   "metadata": {},
   "outputs": [],
   "source": [
    "# Here is a system prompt we have come up with which works well for this query\n",
    "sys_prompt2=\"\"\"You are a helpful AI assistant, responsible for helping me find and communicate information back to my team.\n",
    "    You have access to a number of tools.\n",
    "    Whenever a tool is called, be sure return the Response in a friendly and helpful tone.\n",
    "    When you are asked to find out about opportunities and support casescounts you must use a tool.\n",
    "    If you need to create a pdf, add this markdown to the start of the content:  ![ParasolCloud Logo](https://i.postimg.cc/MHZB5tmL/Screenshot-2025-04-21-at-5-58-46-PM.png)\n",
    "*Secure Cloud Solutions for a Brighter Business*  \n",
    "---\n",
    "    \"\"\""
   ]
  },
  {
   "cell_type": "code",
   "execution_count": 8,
   "id": "fe55883a-6887-43dd-9498-5333a51799e2",
   "metadata": {},
   "outputs": [
    {
     "name": "stderr",
     "output_type": "stream",
     "text": [
      "========= Turn: 0 =========\n"
     ]
    },
    {
     "name": "stdout",
     "output_type": "stream",
     "text": [
      "\u001b[33minference> \u001b[0m\u001b[33m<think>\u001b[0m\u001b[33m\n",
      "\u001b[0m\u001b[33mOkay\u001b[0m\u001b[33m,\u001b[0m\u001b[33m the\u001b[0m\u001b[33m user\u001b[0m\u001b[33m is\u001b[0m\u001b[33m asking\u001b[0m\u001b[33m for\u001b[0m\u001b[33m active\u001b[0m\u001b[33m opportunities\u001b[0m\u001b[33m for\u001b[0m\u001b[33m AC\u001b[0m\u001b[33mME\u001b[0m\u001b[33m.\u001b[0m\u001b[33m Let\u001b[0m\u001b[33m me\u001b[0m\u001b[33m check\u001b[0m\u001b[33m the\u001b[0m\u001b[33m tools\u001b[0m\u001b[33m available\u001b[0m\u001b[33m.\u001b[0m\u001b[33m There\u001b[0m\u001b[33m's\u001b[0m\u001b[33m a\u001b[0m\u001b[33m function\u001b[0m\u001b[33m called\u001b[0m\u001b[33m get\u001b[0m\u001b[33mOp\u001b[0m\u001b[33mport\u001b[0m\u001b[33munities\u001b[0m\u001b[33m that\u001b[0m\u001b[33m retrieves\u001b[0m\u001b[33m active\u001b[0m\u001b[33m opportunities\u001b[0m\u001b[33m from\u001b[0m\u001b[33m the\u001b[0m\u001b[33m CRM\u001b[0m\u001b[33m.\u001b[0m\u001b[33m The\u001b[0m\u001b[33m parameters\u001b[0m\u001b[33m are\u001b[0m\u001b[33m empty\u001b[0m\u001b[33m,\u001b[0m\u001b[33m so\u001b[0m\u001b[33m I\u001b[0m\u001b[33m don\u001b[0m\u001b[33m't\u001b[0m\u001b[33m need\u001b[0m\u001b[33m any\u001b[0m\u001b[33m arguments\u001b[0m\u001b[33m.\u001b[0m\u001b[33m I\u001b[0m\u001b[33m should\u001b[0m\u001b[33m call\u001b[0m\u001b[33m that\u001b[0m\u001b[33m function\u001b[0m\u001b[33m.\u001b[0m\u001b[33m Wait\u001b[0m\u001b[33m,\u001b[0m\u001b[33m does\u001b[0m\u001b[33m the\u001b[0m\u001b[33m function\u001b[0m\u001b[33m require\u001b[0m\u001b[33m any\u001b[0m\u001b[33m parameters\u001b[0m\u001b[33m?\u001b[0m\u001b[33m The\u001b[0m\u001b[33m tool\u001b[0m\u001b[33m definition\u001b[0m\u001b[33m says\u001b[0m\u001b[33m properties\u001b[0m\u001b[33m and\u001b[0m\u001b[33m required\u001b[0m\u001b[33m are\u001b[0m\u001b[33m empty\u001b[0m\u001b[33m,\u001b[0m\u001b[33m so\u001b[0m\u001b[33m no\u001b[0m\u001b[33m.\u001b[0m\u001b[33m Just\u001b[0m\u001b[33m call\u001b[0m\u001b[33m get\u001b[0m\u001b[33mOp\u001b[0m\u001b[33mport\u001b[0m\u001b[33munities\u001b[0m\u001b[33m.\u001b[0m\u001b[33m Then\u001b[0m\u001b[33m,\u001b[0m\u001b[33m once\u001b[0m\u001b[33m I\u001b[0m\u001b[33m get\u001b[0m\u001b[33m the\u001b[0m\u001b[33m data\u001b[0m\u001b[33m,\u001b[0m\u001b[33m I\u001b[0m\u001b[33m can\u001b[0m\u001b[33m present\u001b[0m\u001b[33m it\u001b[0m\u001b[33m to\u001b[0m\u001b[33m the\u001b[0m\u001b[33m user\u001b[0m\u001b[33m.\u001b[0m\u001b[33m But\u001b[0m\u001b[33m the\u001b[0m\u001b[33m user\u001b[0m\u001b[33m specifically\u001b[0m\u001b[33m mentioned\u001b[0m\u001b[33m AC\u001b[0m\u001b[33mME\u001b[0m\u001b[33m.\u001b[0m\u001b[33m Hmm\u001b[0m\u001b[33m,\u001b[0m\u001b[33m the\u001b[0m\u001b[33m function\u001b[0m\u001b[33m doesn\u001b[0m\u001b[33m't\u001b[0m\u001b[33m take\u001b[0m\u001b[33m parameters\u001b[0m\u001b[33m,\u001b[0m\u001b[33m so\u001b[0m\u001b[33m maybe\u001b[0m\u001b[33m the\u001b[0m\u001b[33m filtering\u001b[0m\u001b[33m is\u001b[0m\u001b[33m done\u001b[0m\u001b[33m on\u001b[0m\u001b[33m the\u001b[0m\u001b[33m server\u001b[0m\u001b[33m side\u001b[0m\u001b[33m.\u001b[0m\u001b[33m I\u001b[0m\u001b[33m'll\u001b[0m\u001b[33m proceed\u001b[0m\u001b[33m to\u001b[0m\u001b[33m call\u001b[0m\u001b[33m get\u001b[0m\u001b[33mOp\u001b[0m\u001b[33mport\u001b[0m\u001b[33munities\u001b[0m\u001b[33m and\u001b[0m\u001b[33m then\u001b[0m\u001b[33m check\u001b[0m\u001b[33m the\u001b[0m\u001b[33m results\u001b[0m\u001b[33m.\u001b[0m\u001b[33m If\u001b[0m\u001b[33m the\u001b[0m\u001b[33m results\u001b[0m\u001b[33m include\u001b[0m\u001b[33m AC\u001b[0m\u001b[33mME\u001b[0m\u001b[33m's\u001b[0m\u001b[33m opportunities\u001b[0m\u001b[33m,\u001b[0m\u001b[33m great\u001b[0m\u001b[33m.\u001b[0m\u001b[33m If\u001b[0m\u001b[33m not\u001b[0m\u001b[33m,\u001b[0m\u001b[33m maybe\u001b[0m\u001b[33m the\u001b[0m\u001b[33m user\u001b[0m\u001b[33m needs\u001b[0m\u001b[33m to\u001b[0m\u001b[33m specify\u001b[0m\u001b[33m more\u001b[0m\u001b[33m details\u001b[0m\u001b[33m.\u001b[0m\u001b[33m But\u001b[0m\u001b[33m according\u001b[0m\u001b[33m to\u001b[0m\u001b[33m the\u001b[0m\u001b[33m tools\u001b[0m\u001b[33m provided\u001b[0m\u001b[33m,\u001b[0m\u001b[33m I\u001b[0m\u001b[33m can\u001b[0m\u001b[33m't\u001b[0m\u001b[33m add\u001b[0m\u001b[33m parameters\u001b[0m\u001b[33m.\u001b[0m\u001b[33m So\u001b[0m\u001b[33m I\u001b[0m\u001b[33m'll\u001b[0m\u001b[33m go\u001b[0m\u001b[33m ahead\u001b[0m\u001b[33m and\u001b[0m\u001b[33m call\u001b[0m\u001b[33m the\u001b[0m\u001b[33m function\u001b[0m\u001b[33m.\n",
      "\u001b[0m\u001b[33m</think>\u001b[0m\u001b[33m\n",
      "\n",
      "\u001b[0m\u001b[33m<tool_call>\u001b[0m\u001b[33m\n",
      "\u001b[0m\u001b[33m{\"\u001b[0m\u001b[33mname\u001b[0m\u001b[33m\":\u001b[0m\u001b[33m \"\u001b[0m\u001b[33mget\u001b[0m\u001b[33mOp\u001b[0m\u001b[33mport\u001b[0m\u001b[33munities\u001b[0m\u001b[33m\",\u001b[0m\u001b[33m \"\u001b[0m\u001b[33marguments\u001b[0m\u001b[33m\":\u001b[0m\u001b[33m {}\u001b[0m\u001b[33m}\n",
      "\u001b[0m\u001b[33m</tool_call>\u001b[0m\u001b[97m\u001b[0m\n",
      "\u001b[30m\u001b[0m"
     ]
    },
    {
     "name": "stderr",
     "output_type": "stream",
     "text": [
      "========= Turn: 1 =========\n"
     ]
    },
    {
     "name": "stdout",
     "output_type": "stream",
     "text": [
      "\u001b[33minference> \u001b[0m\u001b[33m<think>\u001b[0m\u001b[33m\n",
      "\u001b[0m\u001b[33mOkay\u001b[0m\u001b[33m,\u001b[0m\u001b[33m the\u001b[0m\u001b[33m user\u001b[0m\u001b[33m is\u001b[0m\u001b[33m asking\u001b[0m\u001b[33m for\u001b[0m\u001b[33m a\u001b[0m\u001b[33m list\u001b[0m\u001b[33m of\u001b[0m\u001b[33m support\u001b[0m\u001b[33m cases\u001b[0m\u001b[33m for\u001b[0m\u001b[33m a\u001b[0m\u001b[33m specific\u001b[0m\u001b[33m account\u001b[0m\u001b[33m ID\u001b[0m\u001b[33m.\u001b[0m\u001b[33m Let\u001b[0m\u001b[33m me\u001b[0m\u001b[33m check\u001b[0m\u001b[33m the\u001b[0m\u001b[33m available\u001b[0m\u001b[33m tools\u001b[0m\u001b[33m.\u001b[0m\u001b[33m There\u001b[0m\u001b[33m's\u001b[0m\u001b[33m the\u001b[0m\u001b[33m get\u001b[0m\u001b[33mSupport\u001b[0m\u001b[33mCases\u001b[0m\u001b[33m function\u001b[0m\u001b[33m,\u001b[0m\u001b[33m but\u001b[0m\u001b[33m looking\u001b[0m\u001b[33m at\u001b[0m\u001b[33m its\u001b[0m\u001b[33m parameters\u001b[0m\u001b[33m,\u001b[0m\u001b[33m it\u001b[0m\u001b[33m doesn\u001b[0m\u001b[33m't\u001b[0m\u001b[33m mention\u001b[0m\u001b[33m anything\u001b[0m\u001b[33m about\u001b[0m\u001b[33m an\u001b[0m\u001b[33m account\u001b[0m\u001b[33m ID\u001b[0m\u001b[33m.\u001b[0m\u001b[33m The\u001b[0m\u001b[33m function\u001b[0m\u001b[33m's\u001b[0m\u001b[33m parameters\u001b[0m\u001b[33m are\u001b[0m\u001b[33m empty\u001b[0m\u001b[33m,\u001b[0m\u001b[33m so\u001b[0m\u001b[33m it\u001b[0m\u001b[33m probably\u001b[0m\u001b[33m retrieves\u001b[0m\u001b[33m all\u001b[0m\u001b[33m support\u001b[0m\u001b[33m cases\u001b[0m\u001b[33m or\u001b[0m\u001b[33m requires\u001b[0m\u001b[33m some\u001b[0m\u001b[33m other\u001b[0m\u001b[33m filtering\u001b[0m\u001b[33m method\u001b[0m\u001b[33m.\u001b[0m\u001b[33m Since\u001b[0m\u001b[33m the\u001b[0m\u001b[33m user\u001b[0m\u001b[33m specified\u001b[0m\u001b[33m an\u001b[0m\u001b[33m account\u001b[0m\u001b[33m ID\u001b[0m\u001b[33m,\u001b[0m\u001b[33m but\u001b[0m\u001b[33m the\u001b[0m\u001b[33m function\u001b[0m\u001b[33m doesn\u001b[0m\u001b[33m't\u001b[0m\u001b[33m accept\u001b[0m\u001b[33m parameters\u001b[0m\u001b[33m,\u001b[0m\u001b[33m I\u001b[0m\u001b[33m can\u001b[0m\u001b[33m't\u001b[0m\u001b[33m filter\u001b[0m\u001b[33m by\u001b[0m\u001b[33m account\u001b[0m\u001b[33m ID\u001b[0m\u001b[33m.\u001b[0m\u001b[33m I\u001b[0m\u001b[33m should\u001b[0m\u001b[33m inform\u001b[0m\u001b[33m the\u001b[0m\u001b[33m user\u001b[0m\u001b[33m that\u001b[0m\u001b[33m the\u001b[0m\u001b[33m current\u001b[0m\u001b[33m tool\u001b[0m\u001b[33m doesn\u001b[0m\u001b[33m't\u001b[0m\u001b[33m support\u001b[0m\u001b[33m filtering\u001b[0m\u001b[33m by\u001b[0m\u001b[33m account\u001b[0m\u001b[33m ID\u001b[0m\u001b[33m and\u001b[0m\u001b[33m offer\u001b[0m\u001b[33m to\u001b[0m\u001b[33m retrieve\u001b[0m\u001b[33m all\u001b[0m\u001b[33m support\u001b[0m\u001b[33m cases\u001b[0m\u001b[33m instead\u001b[0m\u001b[33m.\u001b[0m\u001b[33m Alternatively\u001b[0m\u001b[33m,\u001b[0m\u001b[33m maybe\u001b[0m\u001b[33m there\u001b[0m\u001b[33m's\u001b[0m\u001b[33m a\u001b[0m\u001b[33m way\u001b[0m\u001b[33m to\u001b[0m\u001b[33m use\u001b[0m\u001b[33m another\u001b[0m\u001b[33m function\u001b[0m\u001b[33m or\u001b[0m\u001b[33m adjust\u001b[0m\u001b[33m the\u001b[0m\u001b[33m query\u001b[0m\u001b[33m.\u001b[0m\u001b[33m Wait\u001b[0m\u001b[33m,\u001b[0m\u001b[33m the\u001b[0m\u001b[33m tools\u001b[0m\u001b[33m provided\u001b[0m\u001b[33m don\u001b[0m\u001b[33m't\u001b[0m\u001b[33m have\u001b[0m\u001b[33m any\u001b[0m\u001b[33m other\u001b[0m\u001b[33m functions\u001b[0m\u001b[33m related\u001b[0m\u001b[33m to\u001b[0m\u001b[33m support\u001b[0m\u001b[33m cases\u001b[0m\u001b[33m.\u001b[0m\u001b[33m So\u001b[0m\u001b[33m the\u001b[0m\u001b[33m best\u001b[0m\u001b[33m approach\u001b[0m\u001b[33m is\u001b[0m\u001b[33m to\u001b[0m\u001b[33m let\u001b[0m\u001b[33m the\u001b[0m\u001b[33m user\u001b[0m\u001b[33m know\u001b[0m\u001b[33m that\u001b[0m\u001b[33m the\u001b[0m\u001b[33m get\u001b[0m\u001b[33mSupport\u001b[0m\u001b[33mCases\u001b[0m\u001b[33m function\u001b[0m\u001b[33m doesn\u001b[0m\u001b[33m't\u001b[0m\u001b[33m take\u001b[0m\u001b[33m an\u001b[0m\u001b[33m account\u001b[0m\u001b[33m ID\u001b[0m\u001b[33m parameter\u001b[0m\u001b[33m and\u001b[0m\u001b[33m ask\u001b[0m\u001b[33m if\u001b[0m\u001b[33m they\u001b[0m\u001b[33m want\u001b[0m\u001b[33m all\u001b[0m\u001b[33m cases\u001b[0m\u001b[33m or\u001b[0m\u001b[33m if\u001b[0m\u001b[33m there\u001b[0m\u001b[33m's\u001b[0m\u001b[33m another\u001b[0m\u001b[33m way\u001b[0m\u001b[33m to\u001b[0m\u001b[33m assist\u001b[0m\u001b[33m them\u001b[0m\u001b[33m.\n",
      "\u001b[0m\u001b[33m</think>\u001b[0m\u001b[33m\n",
      "\n",
      "\u001b[0m\u001b[33mThe\u001b[0m\u001b[33m function\u001b[0m\u001b[33m `\u001b[0m\u001b[33mget\u001b[0m\u001b[33mSupport\u001b[0m\u001b[33mCases\u001b[0m\u001b[33m`\u001b[0m\u001b[33m does\u001b[0m\u001b[33m not\u001b[0m\u001b[33m currently\u001b[0m\u001b[33m support\u001b[0m\u001b[33m filtering\u001b[0m\u001b[33m by\u001b[0m\u001b[33m account\u001b[0m\u001b[33m ID\u001b[0m\u001b[33m.\u001b[0m\u001b[33m Would\u001b[0m\u001b[33m you\u001b[0m\u001b[33m like\u001b[0m\u001b[33m me\u001b[0m\u001b[33m to\u001b[0m\u001b[33m retrieve\u001b[0m\u001b[33m all\u001b[0m\u001b[33m support\u001b[0m\u001b[33m cases\u001b[0m\u001b[33m,\u001b[0m\u001b[33m or\u001b[0m\u001b[33m is\u001b[0m\u001b[33m there\u001b[0m\u001b[33m another\u001b[0m\u001b[33m way\u001b[0m\u001b[33m I\u001b[0m\u001b[33m can\u001b[0m\u001b[33m assist\u001b[0m\u001b[33m you\u001b[0m\u001b[33m with\u001b[0m\u001b[33m this\u001b[0m\u001b[33m request\u001b[0m\u001b[33m?\u001b[0m\u001b[97m\u001b[0m\n",
      "\u001b[30m\u001b[0m"
     ]
    },
    {
     "name": "stderr",
     "output_type": "stream",
     "text": [
      "========= Turn: 2 =========\n"
     ]
    },
    {
     "name": "stdout",
     "output_type": "stream",
     "text": [
      "\u001b[33minference> \u001b[0m\u001b[33m<think>\u001b[0m\u001b[33m\n",
      "\u001b[0m\u001b[33mOkay\u001b[0m\u001b[33m,\u001b[0m\u001b[33m the\u001b[0m\u001b[33m user\u001b[0m\u001b[33m wants\u001b[0m\u001b[33m me\u001b[0m\u001b[33m to\u001b[0m\u001b[33m analyze\u001b[0m\u001b[33m support\u001b[0m\u001b[33m cases\u001b[0m\u001b[33m and\u001b[0m\u001b[33m determine\u001b[0m\u001b[33m how\u001b[0m\u001b[33m happy\u001b[0m\u001b[33m the\u001b[0m\u001b[33m account\u001b[0m\u001b[33m is\u001b[0m\u001b[33m.\u001b[0m\u001b[33m But\u001b[0m\u001b[33m first\u001b[0m\u001b[33m,\u001b[0m\u001b[33m I\u001b[0m\u001b[33m need\u001b[0m\u001b[33m to\u001b[0m\u001b[33m get\u001b[0m\u001b[33m the\u001b[0m\u001b[33m list\u001b[0m\u001b[33m of\u001b[0m\u001b[33m support\u001b[0m\u001b[33m cases\u001b[0m\u001b[33m.\u001b[0m\u001b[33m However\u001b[0m\u001b[33m,\u001b[0m\u001b[33m the\u001b[0m\u001b[33m get\u001b[0m\u001b[33mSupport\u001b[0m\u001b[33mCases\u001b[0m\u001b[33m function\u001b[0m\u001b[33m doesn\u001b[0m\u001b[33m't\u001b[0m\u001b[33m take\u001b[0m\u001b[33m an\u001b[0m\u001b[33m account\u001b[0m\u001b[33m ID\u001b[0m\u001b[33m parameter\u001b[0m\u001b[33m.\u001b[0m\u001b[33m The\u001b[0m\u001b[33m user\u001b[0m\u001b[33m mentioned\u001b[0m\u001b[33m \"\u001b[0m\u001b[33mfor\u001b[0m\u001b[33m the\u001b[0m\u001b[33m account\u001b[0m\u001b[33m id\u001b[0m\u001b[33m,\"\u001b[0m\u001b[33m but\u001b[0m\u001b[33m they\u001b[0m\u001b[33m didn\u001b[0m\u001b[33m't\u001b[0m\u001b[33m specify\u001b[0m\u001b[33m which\u001b[0m\u001b[33m account\u001b[0m\u001b[33m ID\u001b[0m\u001b[33m.\u001b[0m\u001b[33m Wait\u001b[0m\u001b[33m,\u001b[0m\u001b[33m in\u001b[0m\u001b[33m the\u001b[0m\u001b[33m previous\u001b[0m\u001b[33m message\u001b[0m\u001b[33m,\u001b[0m\u001b[33m the\u001b[0m\u001b[33m user\u001b[0m\u001b[33m said\u001b[0m\u001b[33m \"\u001b[0m\u001b[33mget\u001b[0m\u001b[33m a\u001b[0m\u001b[33m list\u001b[0m\u001b[33m of\u001b[0m\u001b[33m support\u001b[0m\u001b[33m cases\u001b[0m\u001b[33m for\u001b[0m\u001b[33m the\u001b[0m\u001b[33m account\u001b[0m\u001b[33m id\u001b[0m\u001b[33m,\"\u001b[0m\u001b[33m but\u001b[0m\u001b[33m the\u001b[0m\u001b[33m function\u001b[0m\u001b[33m can\u001b[0m\u001b[33m't\u001b[0m\u001b[33m filter\u001b[0m\u001b[33m by\u001b[0m\u001b[33m account\u001b[0m\u001b[33m ID\u001b[0m\u001b[33m.\u001b[0m\u001b[33m So\u001b[0m\u001b[33m maybe\u001b[0m\u001b[33m they\u001b[0m\u001b[33m want\u001b[0m\u001b[33m all\u001b[0m\u001b[33m support\u001b[0m\u001b[33m cases\u001b[0m\u001b[33m,\u001b[0m\u001b[33m but\u001b[0m\u001b[33m then\u001b[0m\u001b[33m how\u001b[0m\u001b[33m do\u001b[0m\u001b[33m they\u001b[0m\u001b[33m relate\u001b[0m\u001b[33m to\u001b[0m\u001b[33m the\u001b[0m\u001b[33m account\u001b[0m\u001b[33m?\n",
      "\n",
      "\u001b[0m\u001b[33mWait\u001b[0m\u001b[33m,\u001b[0m\u001b[33m the\u001b[0m\u001b[33m user\u001b[0m\u001b[33m's\u001b[0m\u001b[33m latest\u001b[0m\u001b[33m query\u001b[0m\u001b[33m is\u001b[0m\u001b[33m to\u001b[0m\u001b[33m analyze\u001b[0m\u001b[33m support\u001b[0m\u001b[33m cases\u001b[0m\u001b[33m to\u001b[0m\u001b[33m determine\u001b[0m\u001b[33m account\u001b[0m\u001b[33m happiness\u001b[0m\u001b[33m.\u001b[0m\u001b[33m But\u001b[0m\u001b[33m without\u001b[0m\u001b[33m knowing\u001b[0m\u001b[33m which\u001b[0m\u001b[33m account\u001b[0m\u001b[33m,\u001b[0m\u001b[33m I\u001b[0m\u001b[33m can\u001b[0m\u001b[33m't\u001b[0m\u001b[33m filter\u001b[0m\u001b[33m the\u001b[0m\u001b[33m cases\u001b[0m\u001b[33m.\u001b[0m\u001b[33m The\u001b[0m\u001b[33m function\u001b[0m\u001b[33m as\u001b[0m\u001b[33m it\u001b[0m\u001b[33m stands\u001b[0m\u001b[33m can\u001b[0m\u001b[33m't\u001b[0m\u001b[33m take\u001b[0m\u001b[33m an\u001b[0m\u001b[33m account\u001b[0m\u001b[33m ID\u001b[0m\u001b[33m.\u001b[0m\u001b[33m So\u001b[0m\u001b[33m I\u001b[0m\u001b[33m need\u001b[0m\u001b[33m to\u001b[0m\u001b[33m ask\u001b[0m\u001b[33m the\u001b[0m\u001b[33m user\u001b[0m\u001b[33m to\u001b[0m\u001b[33m clarify\u001b[0m\u001b[33m which\u001b[0m\u001b[33m account\u001b[0m\u001b[33m they\u001b[0m\u001b[33m're\u001b[0m\u001b[33m referring\u001b[0m\u001b[33m to\u001b[0m\u001b[33m.\u001b[0m\u001b[33m Alternatively\u001b[0m\u001b[33m,\u001b[0m\u001b[33m maybe\u001b[0m\u001b[33m they\u001b[0m\u001b[33m want\u001b[0m\u001b[33m to\u001b[0m\u001b[33m analyze\u001b[0m\u001b[33m all\u001b[0m\u001b[33m support\u001b[0m\u001b[33m cases\u001b[0m\u001b[33m,\u001b[0m\u001b[33m but\u001b[0m\u001b[33m that\u001b[0m\u001b[33m might\u001b[0m\u001b[33m not\u001b[0m\u001b[33m be\u001b[0m\u001b[33m specific\u001b[0m\u001b[33m to\u001b[0m\u001b[33m an\u001b[0m\u001b[33m account\u001b[0m\u001b[33m.\u001b[0m\u001b[33m \n",
      "\n",
      "\u001b[0m\u001b[33mAlternatively\u001b[0m\u001b[33m,\u001b[0m\u001b[33m maybe\u001b[0m\u001b[33m the\u001b[0m\u001b[33m user\u001b[0m\u001b[33m expects\u001b[0m\u001b[33m that\u001b[0m\u001b[33m the\u001b[0m\u001b[33m support\u001b[0m\u001b[33m cases\u001b[0m\u001b[33m are\u001b[0m\u001b[33m already\u001b[0m\u001b[33m filtered\u001b[0m\u001b[33m by\u001b[0m\u001b[33m the\u001b[0m\u001b[33m account\u001b[0m\u001b[33m ID\u001b[0m\u001b[33m,\u001b[0m\u001b[33m but\u001b[0m\u001b[33m the\u001b[0m\u001b[33m function\u001b[0m\u001b[33m doesn\u001b[0m\u001b[33m't\u001b[0m\u001b[33m support\u001b[0m\u001b[33m that\u001b[0m\u001b[33m.\u001b[0m\u001b[33m So\u001b[0m\u001b[33m I\u001b[0m\u001b[33m need\u001b[0m\u001b[33m to\u001b[0m\u001b[33m inform\u001b[0m\u001b[33m them\u001b[0m\u001b[33m that\u001b[0m\u001b[33m I\u001b[0m\u001b[33m can\u001b[0m\u001b[33m't\u001b[0m\u001b[33m filter\u001b[0m\u001b[33m by\u001b[0m\u001b[33m account\u001b[0m\u001b[33m ID\u001b[0m\u001b[33m and\u001b[0m\u001b[33m ask\u001b[0m\u001b[33m if\u001b[0m\u001b[33m they\u001b[0m\u001b[33m want\u001b[0m\u001b[33m all\u001b[0m\u001b[33m support\u001b[0m\u001b[33m cases\u001b[0m\u001b[33m or\u001b[0m\u001b[33m if\u001b[0m\u001b[33m there\u001b[0m\u001b[33m's\u001b[0m\u001b[33m another\u001b[0m\u001b[33m way\u001b[0m\u001b[33m.\u001b[0m\u001b[33m But\u001b[0m\u001b[33m the\u001b[0m\u001b[33m user\u001b[0m\u001b[33m is\u001b[0m\u001b[33m asking\u001b[0m\u001b[33m about\u001b[0m\u001b[33m account\u001b[0m\u001b[33m happiness\u001b[0m\u001b[33m,\u001b[0m\u001b[33m which\u001b[0m\u001b[33m implies\u001b[0m\u001b[33m a\u001b[0m\u001b[33m specific\u001b[0m\u001b[33m account\u001b[0m\u001b[33m.\u001b[0m\u001b[33m Therefore\u001b[0m\u001b[33m,\u001b[0m\u001b[33m I\u001b[0m\u001b[33m should\u001b[0m\u001b[33m prompt\u001b[0m\u001b[33m them\u001b[0m\u001b[33m to\u001b[0m\u001b[33m provide\u001b[0m\u001b[33m the\u001b[0m\u001b[33m account\u001b[0m\u001b[33m ID\u001b[0m\u001b[33m so\u001b[0m\u001b[33m that\u001b[0m\u001b[33m I\u001b[0m\u001b[33m can\u001b[0m\u001b[33m proceed\u001b[0m\u001b[33m,\u001b[0m\u001b[33m even\u001b[0m\u001b[33m though\u001b[0m\u001b[33m the\u001b[0m\u001b[33m function\u001b[0m\u001b[33m doesn\u001b[0m\u001b[33m't\u001b[0m\u001b[33m support\u001b[0m\u001b[33m it\u001b[0m\u001b[33m.\u001b[0m\u001b[33m Wait\u001b[0m\u001b[33m,\u001b[0m\u001b[33m but\u001b[0m\u001b[33m the\u001b[0m\u001b[33m function\u001b[0m\u001b[33m can\u001b[0m\u001b[33m't\u001b[0m\u001b[33m take\u001b[0m\u001b[33m an\u001b[0m\u001b[33m account\u001b[0m\u001b[33m ID\u001b[0m\u001b[33m.\u001b[0m\u001b[33m So\u001b[0m\u001b[33m maybe\u001b[0m\u001b[33m I\u001b[0m\u001b[33m need\u001b[0m\u001b[33m to\u001b[0m\u001b[33m tell\u001b[0m\u001b[33m them\u001b[0m\u001b[33m that\u001b[0m\u001b[33m the\u001b[0m\u001b[33m current\u001b[0m\u001b[33m tool\u001b[0m\u001b[33m doesn\u001b[0m\u001b[33m't\u001b[0m\u001b[33m allow\u001b[0m\u001b[33m filtering\u001b[0m\u001b[33m by\u001b[0m\u001b[33m account\u001b[0m\u001b[33m ID\u001b[0m\u001b[33m and\u001b[0m\u001b[33m ask\u001b[0m\u001b[33m if\u001b[0m\u001b[33m they\u001b[0m\u001b[33m want\u001b[0m\u001b[33m to\u001b[0m\u001b[33m proceed\u001b[0m\u001b[33m with\u001b[0m\u001b[33m all\u001b[0m\u001b[33m cases\u001b[0m\u001b[33m or\u001b[0m\u001b[33m if\u001b[0m\u001b[33m they\u001b[0m\u001b[33m need\u001b[0m\u001b[33m a\u001b[0m\u001b[33m different\u001b[0m\u001b[33m approach\u001b[0m\u001b[33m.\u001b[0m\u001b[33m \n",
      "\n",
      "\u001b[0m\u001b[33mAlternatively\u001b[0m\u001b[33m,\u001b[0m\u001b[33m maybe\u001b[0m\u001b[33m the\u001b[0m\u001b[33m user\u001b[0m\u001b[33m made\u001b[0m\u001b[33m a\u001b[0m\u001b[33m mistake\u001b[0m\u001b[33m in\u001b[0m\u001b[33m the\u001b[0m\u001b[33m previous\u001b[0m\u001b[33m message\u001b[0m\u001b[33m,\u001b[0m\u001b[33m and\u001b[0m\u001b[33m the\u001b[0m\u001b[33m account\u001b[0m\u001b[33m ID\u001b[0m\u001b[33m was\u001b[0m\u001b[33m supposed\u001b[0m\u001b[33m to\u001b[0m\u001b[33m be\u001b[0m\u001b[33m provided\u001b[0m\u001b[33m.\u001b[0m\u001b[33m But\u001b[0m\u001b[33m in\u001b[0m\u001b[33m the\u001b[0m\u001b[33m history\u001b[0m\u001b[33m,\u001b[0m\u001b[33m the\u001b[0m\u001b[33m user\u001b[0m\u001b[33m said\u001b[0m\u001b[33m \"\u001b[0m\u001b[33mget\u001b[0m\u001b[33m a\u001b[0m\u001b[33m list\u001b[0m\u001b[33m of\u001b[0m\u001b[33m support\u001b[0m\u001b[33m cases\u001b[0m\u001b[33m for\u001b[0m\u001b[33m the\u001b[0m\u001b[33m account\u001b[0m\u001b[33m id\u001b[0m\u001b[33m\"\u001b[0m\u001b[33m but\u001b[0m\u001b[33m didn\u001b[0m\u001b[33m't\u001b[0m\u001b[33m specify\u001b[0m\u001b[33m the\u001b[0m\u001b[33m ID\u001b[0m\u001b[33m.\u001b[0m\u001b[33m So\u001b[0m\u001b[33m I\u001b[0m\u001b[33m need\u001b[0m\u001b[33m to\u001b[0m\u001b[33m ask\u001b[0m\u001b[33m for\u001b[0m\u001b[33m the\u001b[0m\u001b[33m account\u001b[0m\u001b[33m ID\u001b[0m\u001b[33m to\u001b[0m\u001b[33m proceed\u001b[0m\u001b[33m,\u001b[0m\u001b[33m even\u001b[0m\u001b[33m though\u001b[0m\u001b[33m the\u001b[0m\u001b[33m function\u001b[0m\u001b[33m can\u001b[0m\u001b[33m't\u001b[0m\u001b[33m use\u001b[0m\u001b[33m it\u001b[0m\u001b[33m.\u001b[0m\u001b[33m Or\u001b[0m\u001b[33m maybe\u001b[0m\u001b[33m there\u001b[0m\u001b[33m's\u001b[0m\u001b[33m a\u001b[0m\u001b[33m misunderstanding\u001b[0m\u001b[33m here\u001b[0m\u001b[33m.\u001b[0m\u001b[33m \n",
      "\n",
      "\u001b[0m\u001b[33mIn\u001b[0m\u001b[33m any\u001b[0m\u001b[33m case\u001b[0m\u001b[33m,\u001b[0m\u001b[33m the\u001b[0m\u001b[33m next\u001b[0m\u001b[33m step\u001b[0m\u001b[33m is\u001b[0m\u001b[33m to\u001b[0m\u001b[33m inform\u001b[0m\u001b[33m the\u001b[0m\u001b[33m user\u001b[0m\u001b[33m that\u001b[0m\u001b[33m the\u001b[0m\u001b[33m get\u001b[0m\u001b[33mSupport\u001b[0m\u001b[33mCases\u001b[0m\u001b[33m function\u001b[0m\u001b[33m doesn\u001b[0m\u001b[33m't\u001b[0m\u001b[33m support\u001b[0m\u001b[33m account\u001b[0m\u001b[33m ID\u001b[0m\u001b[33m filtering\u001b[0m\u001b[33m and\u001b[0m\u001b[33m ask\u001b[0m\u001b[33m if\u001b[0m\u001b[33m they\u001b[0m\u001b[33m want\u001b[0m\u001b[33m to\u001b[0m\u001b[33m retrieve\u001b[0m\u001b[33m all\u001b[0m\u001b[33m support\u001b[0m\u001b[33m cases\u001b[0m\u001b[33m or\u001b[0m\u001b[33m if\u001b[0m\u001b[33m they\u001b[0m\u001b[33m need\u001b[0m\u001b[33m another\u001b[0m\u001b[33m method\u001b[0m\u001b[33m.\u001b[0m\u001b[33m Then\u001b[0m\u001b[33m,\u001b[0m\u001b[33m once\u001b[0m\u001b[33m I\u001b[0m\u001b[33m have\u001b[0m\u001b[33m the\u001b[0m\u001b[33m list\u001b[0m\u001b[33m,\u001b[0m\u001b[33m I\u001b[0m\u001b[33m can\u001b[0m\u001b[33m analyze\u001b[0m\u001b[33m the\u001b[0m\u001b[33m cases\u001b[0m\u001b[33m to\u001b[0m\u001b[33m determine\u001b[0m\u001b[33m account\u001b[0m\u001b[33m happiness\u001b[0m\u001b[33m based\u001b[0m\u001b[33m on\u001b[0m\u001b[33m factors\u001b[0m\u001b[33m like\u001b[0m\u001b[33m case\u001b[0m\u001b[33m resolution\u001b[0m\u001b[33m time\u001b[0m\u001b[33m,\u001b[0m\u001b[33m number\u001b[0m\u001b[33m of\u001b[0m\u001b[33m cases\u001b[0m\u001b[33m,\u001b[0m\u001b[33m severity\u001b[0m\u001b[33m,\u001b[0m\u001b[33m etc\u001b[0m\u001b[33m.\u001b[0m\u001b[33m But\u001b[0m\u001b[33m without\u001b[0m\u001b[33m the\u001b[0m\u001b[33m specific\u001b[0m\u001b[33m account\u001b[0m\u001b[33m ID\u001b[0m\u001b[33m,\u001b[0m\u001b[33m I\u001b[0m\u001b[33m can\u001b[0m\u001b[33m't\u001b[0m\u001b[33m filter\u001b[0m\u001b[33m the\u001b[0m\u001b[33m cases\u001b[0m\u001b[33m.\u001b[0m\u001b[33m So\u001b[0m\u001b[33m the\u001b[0m\u001b[33m response\u001b[0m\u001b[33m should\u001b[0m\u001b[33m be\u001b[0m\u001b[33m to\u001b[0m\u001b[33m clarify\u001b[0m\u001b[33m the\u001b[0m\u001b[33m account\u001b[0m\u001b[33m ID\u001b[0m\u001b[33m or\u001b[0m\u001b[33m proceed\u001b[0m\u001b[33m with\u001b[0m\u001b[33m all\u001b[0m\u001b[33m cases\u001b[0m\u001b[33m.\n",
      "\u001b[0m\u001b[33m</think>\u001b[0m\u001b[33m\n",
      "\n",
      "\u001b[0m\u001b[33mTo\u001b[0m\u001b[33m analyze\u001b[0m\u001b[33m support\u001b[0m\u001b[33m cases\u001b[0m\u001b[33m and\u001b[0m\u001b[33m determine\u001b[0m\u001b[33m account\u001b[0m\u001b[33m happiness\u001b[0m\u001b[33m,\u001b[0m\u001b[33m I\u001b[0m\u001b[33m first\u001b[0m\u001b[33m need\u001b[0m\u001b[33m to\u001b[0m\u001b[33m retrieve\u001b[0m\u001b[33m the\u001b[0m\u001b[33m relevant\u001b[0m\u001b[33m support\u001b[0m\u001b[33m cases\u001b[0m\u001b[33m.\u001b[0m\u001b[33m However\u001b[0m\u001b[33m,\u001b[0m\u001b[33m the\u001b[0m\u001b[33m current\u001b[0m\u001b[33m `\u001b[0m\u001b[33mget\u001b[0m\u001b[33mSupport\u001b[0m\u001b[33mCases\u001b[0m\u001b[33m`\u001b[0m\u001b[33m tool\u001b[0m\u001b[33m does\u001b[0m\u001b[33m not\u001b[0m\u001b[33m support\u001b[0m\u001b[33m filtering\u001b[0m\u001b[33m by\u001b[0m\u001b[33m account\u001b[0m\u001b[33m ID\u001b[0m\u001b[33m.\u001b[0m\u001b[33m \n",
      "\n",
      "\u001b[0m\u001b[33mWould\u001b[0m\u001b[33m you\u001b[0m\u001b[33m like\u001b[0m\u001b[33m me\u001b[0m\u001b[33m to\u001b[0m\u001b[33m:\n",
      "\u001b[0m\u001b[33m1\u001b[0m\u001b[33m.\u001b[0m\u001b[33m Retrieve\u001b[0m\u001b[33m **\u001b[0m\u001b[33mall\u001b[0m\u001b[33m support\u001b[0m\u001b[33m cases\u001b[0m\u001b[33m**\u001b[0m\u001b[33m (\u001b[0m\u001b[33mand\u001b[0m\u001b[33m analyze\u001b[0m\u001b[33m them\u001b[0m\u001b[33m for\u001b[0m\u001b[33m general\u001b[0m\u001b[33m trends\u001b[0m\u001b[33m),\u001b[0m\u001b[33m or\u001b[0m\u001b[33m  \n",
      "\u001b[0m\u001b[33m2\u001b[0m\u001b[33m.\u001b[0m\u001b[33m Clar\u001b[0m\u001b[33mify\u001b[0m\u001b[33m the\u001b[0m\u001b[33m **\u001b[0m\u001b[33mspecific\u001b[0m\u001b[33m account\u001b[0m\u001b[33m ID\u001b[0m\u001b[33m**\u001b[0m\u001b[33m you\u001b[0m\u001b[33m want\u001b[0m\u001b[33m to\u001b[0m\u001b[33m analyze\u001b[0m\u001b[33m (\u001b[0m\u001b[33meven\u001b[0m\u001b[33m though\u001b[0m\u001b[33m the\u001b[0m\u001b[33m tool\u001b[0m\u001b[33m cannot\u001b[0m\u001b[33m filter\u001b[0m\u001b[33m by\u001b[0m\u001b[33m it\u001b[0m\u001b[33m at\u001b[0m\u001b[33m this\u001b[0m\u001b[33m time\u001b[0m\u001b[33m)?\n",
      "\n",
      "\u001b[0m\u001b[33mLet\u001b[0m\u001b[33m me\u001b[0m\u001b[33m know\u001b[0m\u001b[33m how\u001b[0m\u001b[33m you\u001b[0m\u001b[33m'd\u001b[0m\u001b[33m like\u001b[0m\u001b[33m to\u001b[0m\u001b[33m proceed\u001b[0m\u001b[33m!\u001b[0m\u001b[97m\u001b[0m\n",
      "\u001b[30m\u001b[0m"
     ]
    },
    {
     "name": "stderr",
     "output_type": "stream",
     "text": [
      "========= Turn: 3 =========\n"
     ]
    },
    {
     "name": "stdout",
     "output_type": "stream",
     "text": [
      "\u001b[33minference> \u001b[0m\u001b[33m<think>\u001b[0m\u001b[33m\n",
      "\u001b[0m\u001b[33mOkay\u001b[0m\u001b[33m,\u001b[0m\u001b[33m the\u001b[0m\u001b[33m user\u001b[0m\u001b[33m wants\u001b[0m\u001b[33m to\u001b[0m\u001b[33m create\u001b[0m\u001b[33m a\u001b[0m\u001b[33m PDF\u001b[0m\u001b[33m with\u001b[0m\u001b[33m the\u001b[0m\u001b[33m content\u001b[0m\u001b[33m '\u001b[0m\u001b[33mhello\u001b[0m\u001b[33m world\u001b[0m\u001b[33m'.\u001b[0m\u001b[33m Let\u001b[0m\u001b[33m me\u001b[0m\u001b[33m check\u001b[0m\u001b[33m the\u001b[0m\u001b[33m available\u001b[0m\u001b[33m tools\u001b[0m\u001b[33m.\u001b[0m\u001b[33m There\u001b[0m\u001b[33m's\u001b[0m\u001b[33m the\u001b[0m\u001b[33m create\u001b[0m\u001b[33m_pdf\u001b[0m\u001b[33m_from\u001b[0m\u001b[33m_mark\u001b[0m\u001b[33mdown\u001b[0m\u001b[33m function\u001b[0m\u001b[33m.\u001b[0m\u001b[33m The\u001b[0m\u001b[33m parameters\u001b[0m\u001b[33m required\u001b[0m\u001b[33m are\u001b[0m\u001b[33m markdown\u001b[0m\u001b[33m,\u001b[0m\u001b[33m output\u001b[0m\u001b[33mFilename\u001b[0m\u001b[33m,\u001b[0m\u001b[33m paper\u001b[0m\u001b[33mFormat\u001b[0m\u001b[33m,\u001b[0m\u001b[33m paper\u001b[0m\u001b[33mOrientation\u001b[0m\u001b[33m,\u001b[0m\u001b[33m paper\u001b[0m\u001b[33mBorder\u001b[0m\u001b[33m,\u001b[0m\u001b[33m and\u001b[0m\u001b[33m watermark\u001b[0m\u001b[33m.\u001b[0m\u001b[33m The\u001b[0m\u001b[33m user\u001b[0m\u001b[33m provided\u001b[0m\u001b[33m the\u001b[0m\u001b[33m markdown\u001b[0m\u001b[33m content\u001b[0m\u001b[33m as\u001b[0m\u001b[33m '\u001b[0m\u001b[33mhello\u001b[0m\u001b[33m world\u001b[0m\u001b[33m',\u001b[0m\u001b[33m but\u001b[0m\u001b[33m the\u001b[0m\u001b[33m other\u001b[0m\u001b[33m parameters\u001b[0m\u001b[33m aren\u001b[0m\u001b[33m't\u001b[0m\u001b[33m specified\u001b[0m\u001b[33m.\u001b[0m\u001b[33m I\u001b[0m\u001b[33m need\u001b[0m\u001b[33m to\u001b[0m\u001b[33m use\u001b[0m\u001b[33m default\u001b[0m\u001b[33m values\u001b[0m\u001b[33m for\u001b[0m\u001b[33m the\u001b[0m\u001b[33m missing\u001b[0m\u001b[33m ones\u001b[0m\u001b[33m.\u001b[0m\u001b[33m The\u001b[0m\u001b[33m output\u001b[0m\u001b[33m filename\u001b[0m\u001b[33m wasn\u001b[0m\u001b[33m't\u001b[0m\u001b[33m given\u001b[0m\u001b[33m,\u001b[0m\u001b[33m so\u001b[0m\u001b[33m maybe\u001b[0m\u001b[33m I\u001b[0m\u001b[33m can\u001b[0m\u001b[33m suggest\u001b[0m\u001b[33m a\u001b[0m\u001b[33m default\u001b[0m\u001b[33m like\u001b[0m\u001b[33m '\u001b[0m\u001b[33mhello\u001b[0m\u001b[33m_world\u001b[0m\u001b[33m.pdf\u001b[0m\u001b[33m'.\u001b[0m\u001b[33m Paper\u001b[0m\u001b[33m format\u001b[0m\u001b[33m defaults\u001b[0m\u001b[33m to\u001b[0m\u001b[33m letter\u001b[0m\u001b[33m,\u001b[0m\u001b[33m orientation\u001b[0m\u001b[33m to\u001b[0m\u001b[33m portrait\u001b[0m\u001b[33m,\u001b[0m\u001b[33m border\u001b[0m\u001b[33m to\u001b[0m\u001b[33m \u001b[0m\u001b[33m2\u001b[0m\u001b[33mcm\u001b[0m\u001b[33m,\u001b[0m\u001b[33m and\u001b[0m\u001b[33m no\u001b[0m\u001b[33m watermark\u001b[0m\u001b[33m.\u001b[0m\u001b[33m I\u001b[0m\u001b[33m should\u001b[0m\u001b[33m structure\u001b[0m\u001b[33m the\u001b[0m\u001b[33m tool\u001b[0m\u001b[33m call\u001b[0m\u001b[33m with\u001b[0m\u001b[33m these\u001b[0m\u001b[33m defaults\u001b[0m\u001b[33m.\u001b[0m\u001b[33m Let\u001b[0m\u001b[33m me\u001b[0m\u001b[33m make\u001b[0m\u001b[33m sure\u001b[0m\u001b[33m all\u001b[0m\u001b[33m required\u001b[0m\u001b[33m parameters\u001b[0m\u001b[33m are\u001b[0m\u001b[33m included\u001b[0m\u001b[33m.\u001b[0m\u001b[33m Yes\u001b[0m\u001b[33m,\u001b[0m\u001b[33m the\u001b[0m\u001b[33m function\u001b[0m\u001b[33m requires\u001b[0m\u001b[33m all\u001b[0m\u001b[33m of\u001b[0m\u001b[33m them\u001b[0m\u001b[33m.\u001b[0m\u001b[33m Alright\u001b[0m\u001b[33m,\u001b[0m\u001b[33m I\u001b[0m\u001b[33m'll\u001b[0m\u001b[33m generate\u001b[0m\u001b[33m the\u001b[0m\u001b[33m tool\u001b[0m\u001b[33m call\u001b[0m\u001b[33m with\u001b[0m\u001b[33m the\u001b[0m\u001b[33m provided\u001b[0m\u001b[33m markdown\u001b[0m\u001b[33m and\u001b[0m\u001b[33m default\u001b[0m\u001b[33m values\u001b[0m\u001b[33m for\u001b[0m\u001b[33m the\u001b[0m\u001b[33m rest\u001b[0m\u001b[33m.\n",
      "\u001b[0m\u001b[33m</think>\u001b[0m\u001b[33m\n",
      "\n",
      "\u001b[0m\u001b[33m<tool_call>\u001b[0m\u001b[33m\n",
      "\u001b[0m\u001b[33m{\"\u001b[0m\u001b[33mname\u001b[0m\u001b[33m\":\u001b[0m\u001b[33m \"\u001b[0m\u001b[33mcreate\u001b[0m\u001b[33m_pdf\u001b[0m\u001b[33m_from\u001b[0m\u001b[33m_mark\u001b[0m\u001b[33mdown\u001b[0m\u001b[33m\",\u001b[0m\u001b[33m \"\u001b[0m\u001b[33marguments\u001b[0m\u001b[33m\":\u001b[0m\u001b[33m {\"\u001b[0m\u001b[33mmarkdown\u001b[0m\u001b[33m\":\u001b[0m\u001b[33m \"\u001b[0m\u001b[33mhello\u001b[0m\u001b[33m world\u001b[0m\u001b[33m\",\u001b[0m\u001b[33m \"\u001b[0m\u001b[33moutput\u001b[0m\u001b[33mFilename\u001b[0m\u001b[33m\":\u001b[0m\u001b[33m \"\u001b[0m\u001b[33mhello\u001b[0m\u001b[33m_world\u001b[0m\u001b[33m.pdf\u001b[0m\u001b[33m\",\u001b[0m\u001b[33m \"\u001b[0m\u001b[33mpaper\u001b[0m\u001b[33mFormat\u001b[0m\u001b[33m\":\u001b[0m\u001b[33m \"\u001b[0m\u001b[33mletter\u001b[0m\u001b[33m\",\u001b[0m\u001b[33m \"\u001b[0m\u001b[33mpaper\u001b[0m\u001b[33mOrientation\u001b[0m\u001b[33m\":\u001b[0m\u001b[33m \"\u001b[0m\u001b[33mportrait\u001b[0m\u001b[33m\",\u001b[0m\u001b[33m \"\u001b[0m\u001b[33mpaper\u001b[0m\u001b[33mBorder\u001b[0m\u001b[33m\":\u001b[0m\u001b[33m \"\u001b[0m\u001b[33m2\u001b[0m\u001b[33mcm\u001b[0m\u001b[33m\",\u001b[0m\u001b[33m \"\u001b[0m\u001b[33mwater\u001b[0m\u001b[33mmark\u001b[0m\u001b[33m\":\u001b[0m\u001b[33m \"\"\u001b[0m\u001b[33m}}\n",
      "\u001b[0m\u001b[33m</tool_call>\u001b[0m\u001b[97m\u001b[0m\n",
      "\u001b[30m\u001b[0m"
     ]
    }
   ],
   "source": [
    "from llama_stack_client.lib.agents.agent import Agent\n",
    "\n",
    "agent = Agent(\n",
    "    client=client,\n",
    "    model=model,\n",
    "    instructions=sys_prompt2,\n",
    "    tools=[\"mcp::crm\", \"mcp::pdf\"],\n",
    "    tool_config={\"tool_choice\":\"auto\"},\n",
    "    sampling_params={\n",
    "        \"max_tokens\":4096,\n",
    "        \"strategy\": {\"type\": \"greedy\"},\n",
    "    }\n",
    ")\n",
    "\n",
    "session_id = agent.create_session(session_name=\"active_opportunity_and_account_health\")\n",
    "\n",
    "prompts = [\n",
    "    \"\"\"Get active opportunities for ACME\"\"\",\n",
    "    \"\"\"get a list of support cases for the account id\"\"\",\n",
    "    \"\"\"Analyze the support cases and determine how happy the account is\"\"\",\n",
    "     \"\"\"Create a pdf with the content 'hello world'\"\"\",\n",
    "\n",
    "]\n",
    "for i, prompt in enumerate(prompts):    \n",
    "    turn_response = agent.create_turn(\n",
    "        messages=[\n",
    "            {\n",
    "                \"role\": \"user\",\n",
    "                \"content\": prompt,\n",
    "            }\n",
    "        ],\n",
    "        session_id=session_id,\n",
    "        stream=True,\n",
    "    )\n",
    "    logger.info(f\"========= Turn: {i} =========\")\n",
    "    for log in EventLogger().log(turn_response):\n",
    "        log.print()\n"
   ]
  },
  {
   "cell_type": "markdown",
   "id": "cf81fb87-19cd-4755-96d5-59628cc75daf",
   "metadata": {},
   "source": [
    "#### Output Analysis\n",
    "\n",
    "`tool_execution> Tool:getSupportCases Args:{'id': '1'}`\n",
    "\n",
    "The model identifies account_id: 1 (from the previous opportunity) and passes it to the getSupportCases tool.\n",
    "\n",
    "<b>Tool Response:</b>\n",
    "Returns 3 support cases for Acme Corp, each with detailed metadata.\n",
    "\n",
    "<b>Model's Inference:</b>\n",
    "Extracts and formats all 3 support cases clearly.\n",
    "\n",
    "Each case is displayed with its:\n",
    "\n",
    "* Subject\n",
    "* Description\n",
    "* Status\n",
    "* Severity\n",
    "* Created timestamp\n",
    "\n",
    "The agent performs a sentiment analysis over the support cases to determine the state of the account and makes recommendations.\n"
   ]
  },
  {
   "cell_type": "markdown",
   "id": "1ecbc8ab-77c6-48ff-970c-2d5dfd54a2c7",
   "metadata": {},
   "source": [
    "## Key Takeaways\n",
    "\n",
    "This tutorial demonstrates how to build agentic MCP applications with Llama Stack. We do so by initializing an agent while giving it access to the MCP tools configured with Llama Stack, then invoking the agent on each of the specified queries. "
   ]
  },
  {
   "cell_type": "code",
   "execution_count": 9,
   "id": "0a37ad31",
   "metadata": {},
   "outputs": [
    {
     "name": "stdout",
     "output_type": "stream",
     "text": [
      "\u001b[31m400: Invalid value: Toolgroup mcp::python not found, available toolgroups: builtin::code_interpreter, builtin::rag, builtin::websearch, builtin::wolfram_alpha, mcp::crm, mcp::pdf, mcp::slack\u001b[0m\n"
     ]
    }
   ],
   "source": [
    "from llama_stack_client import Agent\n",
    "# Create simple agent with tools\n",
    "sys_prompt1= \"\"\"You are a helpful assistant. Use tools to answer.\"\"\"\n",
    "agent = Agent(\n",
    "    client,\n",
    "    model=\"Qwen/Qwen3-14B\", # replace this with your choice of model\n",
    "    instructions = sys_prompt1 , # update system prompt based on the model you are using\n",
    "    tools=[\"mcp::python\"],\n",
    "    tool_config={\"tool_choice\":\"auto\"},\n",
    "    sampling_params={\n",
    "        \"max_tokens\":10000,\n",
    "        \"strategy\": {\"type\": \"greedy\"},\n",
    "    }\n",
    ")\n",
    "\n",
    "user_prompts = [\"Find the number of letter s in the word strawberry\"]\n",
    "session_id = agent.create_session(session_name=\"OCP_demo\")\n",
    "\n",
    "for prompt in user_prompts:\n",
    "    turn_response = agent.create_turn(\n",
    "        messages=[\n",
    "            {\n",
    "                \"role\":\"user\",\n",
    "                \"content\": prompt\n",
    "            }\n",
    "        ],\n",
    "        session_id=session_id,\n",
    "        stream=True,\n",
    "    )\n",
    "    for log in EventLogger().log(turn_response):\n",
    "        log.print()"
   ]
  }
 ],
 "metadata": {
  "kernelspec": {
   "display_name": "Python 3.11",
   "language": "python",
   "name": "python3"
  },
  "language_info": {
   "codemirror_mode": {
    "name": "ipython",
    "version": 3
   },
   "file_extension": ".py",
   "mimetype": "text/x-python",
   "name": "python",
   "nbconvert_exporter": "python",
   "pygments_lexer": "ipython3",
   "version": "3.11.9"
  }
 },
 "nbformat": 4,
 "nbformat_minor": 5
}
